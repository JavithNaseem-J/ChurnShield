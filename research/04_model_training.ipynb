{
 "cells": [
  {
   "cell_type": "code",
   "execution_count": 1,
   "metadata": {},
   "outputs": [],
   "source": [
    "import os"
   ]
  },
  {
   "cell_type": "code",
   "execution_count": 2,
   "metadata": {},
   "outputs": [
    {
     "data": {
      "text/plain": [
       "'f:\\\\Files\\\\DS&ML\\\\Wine-Quality-Prediction\\\\research'"
      ]
     },
     "execution_count": 2,
     "metadata": {},
     "output_type": "execute_result"
    }
   ],
   "source": [
    "%pwd"
   ]
  },
  {
   "cell_type": "code",
   "execution_count": 3,
   "metadata": {},
   "outputs": [
    {
     "data": {
      "text/plain": [
       "'f:\\\\Files\\\\DS&ML\\\\Wine-Quality-Prediction'"
      ]
     },
     "execution_count": 3,
     "metadata": {},
     "output_type": "execute_result"
    }
   ],
   "source": [
    "os.chdir('../')\n",
    "%pwd"
   ]
  },
  {
   "cell_type": "code",
   "execution_count": 4,
   "metadata": {},
   "outputs": [
    {
     "name": "stdout",
     "output_type": "stream",
     "text": [
      "[2025-02-20 23:01:42,932 : INFO : __init__ : Logger has been set up successfully!]\n"
     ]
    }
   ],
   "source": [
    "from mlproject.constants import *"
   ]
  },
  {
   "cell_type": "code",
   "execution_count": 5,
   "metadata": {},
   "outputs": [],
   "source": [
    "from dataclasses import dataclass\n",
    "from pathlib import Path\n",
    "\n",
    "\n",
    "@dataclass(frozen=True)\n",
    "class ModelTrainerConfig:\n",
    "    root_dir: Path\n",
    "    train_data_path: Path\n",
    "    test_data_path: Path\n",
    "    model_name: str\n",
    "    subsample: float\n",
    "    num_leaves: int\n",
    "    n_estimators: int\n",
    "    max_depth: int\n",
    "    learning_rate: float\n",
    "    lambda_l2: float\n",
    "    lambda_l1: float\n",
    "    colsample_bytree: float"
   ]
  },
  {
   "cell_type": "code",
   "execution_count": 6,
   "metadata": {},
   "outputs": [],
   "source": [
    "from mlproject.constants import *\n",
    "from mlproject.utils.common import read_yaml,create_directories\n",
    "from mlproject import logger"
   ]
  },
  {
   "cell_type": "code",
   "execution_count": 7,
   "metadata": {},
   "outputs": [],
   "source": [
    "class ConfigurationManager:\n",
    "    def __init__(\n",
    "        self,\n",
    "        config_filepath = CONFIG_FILE_PATH,\n",
    "        params_filepath = PARAMS_FILE_PATH,\n",
    "        schema_filepath = SCHEMA_FILE_PATH):\n",
    "\n",
    "        self.config = read_yaml(config_filepath)\n",
    "        self.params = read_yaml(params_filepath)\n",
    "        self.schema = read_yaml(schema_filepath)\n",
    "\n",
    "        create_directories([self.config.artifacts_root])\n",
    "\n",
    "\n",
    "    def get_model_trainer_config(self) -> ModelTrainerConfig:\n",
    "        config = self.config.model_trainer\n",
    "        params = self.params.LGBMClassifier\n",
    "        schema =  self.schema.TARGET_COLUMN\n",
    "\n",
    "        create_directories([config.root_dir])\n",
    "\n",
    "        model_trainer_config = ModelTrainerConfig(\n",
    "            root_dir=config.root_dir,\n",
    "            train_data_path = config.train_data_path,\n",
    "            test_data_path = config.test_data_path,\n",
    "            model_name = config.model_name,\n",
    "            subsample = params.subsample,\n",
    "            num_leaves = params.num_leaves,\n",
    "            n_estimators = params.n_estimators,\n",
    "            max_depth = params.max_depth,\n",
    "            learning_rate = params.learning_rate,\n",
    "            lambda_l2 = params.lambda_l2,\n",
    "            lambda_l1 = params.lambda_l1,\n",
    "            colsample_bytree = params.colsample_bytree\n",
    "        )\n",
    "\n",
    "        return model_trainer_config"
   ]
  },
  {
   "cell_type": "code",
   "execution_count": 8,
   "metadata": {},
   "outputs": [],
   "source": [
    "import pandas as pd\n",
    "import numpy as np\n",
    "import joblib\n",
    "from lightgbm  import LGBMClassifier"
   ]
  },
  {
   "cell_type": "code",
   "execution_count": 9,
   "metadata": {},
   "outputs": [],
   "source": [
    "class ModelTrainer:\n",
    "    def __init__(self, config: ModelTrainerConfig):\n",
    "        self.config = config\n",
    "\n",
    "    def train(self):\n",
    "        # Validate file paths\n",
    "        if not os.path.exists(self.config.train_data_path):\n",
    "            raise FileNotFoundError(f\"Training data file not found at {self.config.train_data_path}\")\n",
    "        if not os.path.exists(self.config.test_data_path):\n",
    "            raise FileNotFoundError(f\"Testing data file not found at {self.config.test_data_path}\")\n",
    "\n",
    "        # Load the data\n",
    "        train_data = np.load(self.config.train_data_path, allow_pickle=True)\n",
    "        test_data = np.load(self.config.test_data_path, allow_pickle=True)\n",
    "\n",
    "        logger.info(f\"Loaded train data: type={type(train_data)}, shape={train_data.shape}\")\n",
    "        logger.info(f\"Loaded test data: type={type(test_data)}, shape={test_data.shape}\")\n",
    "\n",
    "        # Split features and target\n",
    "        train_x = train_data[:, :-1]  # All columns except the last one\n",
    "        train_y = train_data[:, -1]   # Only the last column\n",
    "        test_x = test_data[:, :-1]    # All columns except the last one\n",
    "        test_y = test_data[:, -1]     # Only the last column\n",
    "\n",
    "        logger.info(f\"Training data shape: X={train_x.shape}, y={train_y.shape}\")\n",
    "        logger.info(f\"Testing data shape: X={test_x.shape}, y={test_y.shape}\")\n",
    "\n",
    "        # Train the model\n",
    "        logger.info(\"Initializing RandomForestClassifier...\")\n",
    "        classifier = LGBMClassifier(n_estimators=self.config.n_estimators,\n",
    "                                            max_depth=self.config.max_depth,\n",
    "                                            subsample=self.config.subsample,\n",
    "                                            num_leaves=self.config.num_leaves,\n",
    "                                            learning_rate=self.config.learning_rate,\n",
    "                                            lambda_l2=self.config.lambda_l2,\n",
    "                                            lambda_l1=self.config.lambda_l1,\n",
    "                                            colsample_bytree=self.config.colsample_bytree,\n",
    "                                            random_state=42,verbose=-1)\n",
    "        classifier.fit(train_x, train_y)\n",
    "\n",
    "        logger.info(\"Training the model...\")\n",
    "\n",
    "        # Save the trained model\n",
    "        model_path = os.path.join(self.config.root_dir, self.config.model_name)\n",
    "        joblib.dump(classifier, model_path)\n",
    "        logger.info(f\"Model saved successfully at {model_path}\")"
   ]
  },
  {
   "cell_type": "code",
   "execution_count": 10,
   "metadata": {},
   "outputs": [
    {
     "name": "stdout",
     "output_type": "stream",
     "text": [
      "[2025-02-20 23:01:45,971 : INFO : common : yaml file: config\\config.yaml loaded successfully]\n",
      "[2025-02-20 23:01:45,972 : INFO : common : yaml file: params.yaml loaded successfully]\n",
      "[2025-02-20 23:01:45,981 : INFO : common : yaml file: schema.yaml loaded successfully]\n",
      "[2025-02-20 23:01:45,982 : INFO : common : created directory at: artifacts]\n",
      "[2025-02-20 23:01:45,982 : INFO : common : created directory at: artifacts/model_trainer]\n",
      "[2025-02-20 23:01:46,021 : INFO : 1750983693 : Loaded train data: type=<class 'numpy.ndarray'>, shape=(7761, 20)]\n",
      "[2025-02-20 23:01:46,021 : INFO : 1750983693 : Loaded test data: type=<class 'numpy.ndarray'>, shape=(2587, 20)]\n",
      "[2025-02-20 23:01:46,021 : INFO : 1750983693 : Training data shape: X=(7761, 19), y=(7761,)]\n",
      "[2025-02-20 23:01:46,031 : INFO : 1750983693 : Testing data shape: X=(2587, 19), y=(2587,)]\n",
      "[2025-02-20 23:01:46,032 : INFO : 1750983693 : Initializing RandomForestClassifier...]\n",
      "[2025-02-20 23:01:46,396 : INFO : 1750983693 : Training the model...]\n",
      "[2025-02-20 23:01:46,404 : INFO : 1750983693 : Model saved successfully at artifacts/model_trainer\\model.joblib]\n"
     ]
    }
   ],
   "source": [
    "try:\n",
    "    config = ConfigurationManager()\n",
    "    model_trainer_config = config.get_model_trainer_config()\n",
    "    model_trainer_config = ModelTrainer(config=model_trainer_config)\n",
    "    model_trainer_config.train()\n",
    "\n",
    "except FileNotFoundError as e:\n",
    "    logger.error(f\"File not found: {e}\")\n",
    "except KeyError as e:\n",
    "    logger.error(f\"Missing key in configuration: {e}\")\n",
    "except Exception as e:\n",
    "    logger.error(f\"Unexpected error: {e}\")"
   ]
  }
 ],
 "metadata": {
  "kernelspec": {
   "display_name": "mlproject",
   "language": "python",
   "name": "python3"
  },
  "language_info": {
   "codemirror_mode": {
    "name": "ipython",
    "version": 3
   },
   "file_extension": ".py",
   "mimetype": "text/x-python",
   "name": "python",
   "nbconvert_exporter": "python",
   "pygments_lexer": "ipython3",
   "version": "3.10.16"
  }
 },
 "nbformat": 4,
 "nbformat_minor": 2
}
