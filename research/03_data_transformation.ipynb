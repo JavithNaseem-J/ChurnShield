{
 "cells": [
  {
   "cell_type": "code",
   "execution_count": 1,
   "metadata": {},
   "outputs": [
    {
     "name": "stdout",
     "output_type": "stream",
     "text": [
      "[2025-02-20 22:59:34,437 : INFO : __init__ : Logger has been set up successfully!]\n"
     ]
    }
   ],
   "source": [
    "import os\n",
    "import pandas as pd \n",
    "from mlproject import logger"
   ]
  },
  {
   "cell_type": "code",
   "execution_count": 2,
   "metadata": {},
   "outputs": [
    {
     "data": {
      "text/plain": [
       "'f:\\\\Files\\\\DS&ML\\\\Wine-Quality-Prediction\\\\research'"
      ]
     },
     "execution_count": 2,
     "metadata": {},
     "output_type": "execute_result"
    }
   ],
   "source": [
    "%pwd"
   ]
  },
  {
   "cell_type": "code",
   "execution_count": 3,
   "metadata": {},
   "outputs": [
    {
     "data": {
      "text/plain": [
       "'f:\\\\Files\\\\DS&ML\\\\Wine-Quality-Prediction'"
      ]
     },
     "execution_count": 3,
     "metadata": {},
     "output_type": "execute_result"
    }
   ],
   "source": [
    "os.chdir('../')\n",
    "%pwd"
   ]
  },
  {
   "cell_type": "code",
   "execution_count": 4,
   "metadata": {},
   "outputs": [],
   "source": [
    "from dataclasses import dataclass\n",
    "from pathlib import Path\n",
    "\n",
    "@dataclass(frozen=True)\n",
    "class DataTransformationConfig:\n",
    "    root_dir: Path\n",
    "    data_path: Path\n",
    "    target_column: str\n",
    "    label_encoder: Path\n",
    "    feature_encoder: Path  # Add this field\n",
    "    preprocessor_path: Path"
   ]
  },
  {
   "cell_type": "code",
   "execution_count": 5,
   "metadata": {},
   "outputs": [],
   "source": [
    "from mlproject.constants import *\n",
    "from mlproject.utils.common import read_yaml,create_directories"
   ]
  },
  {
   "cell_type": "code",
   "execution_count": null,
   "metadata": {},
   "outputs": [],
   "source": [
    "class ConfigurationManager:\n",
    "    def __init__(\n",
    "        self,\n",
    "        config_filepath = CONFIG_FILE_PATH,\n",
    "        params_filepath = PARAMS_FILE_PATH,\n",
    "        schema_filepath = SCHEMA_FILE_PATH):\n",
    "\n",
    "        self.config = read_yaml(config_filepath)\n",
    "        self.params = read_yaml(params_filepath)\n",
    "        self.schema = read_yaml(schema_filepath)\n",
    "\n",
    "        create_directories([self.config.artifacts_root])\n",
    "\n",
    "    # Then in ConfigurationManager.get_data_transformation_config:\n",
    "    def get_data_transformation_config(self) -> DataTransformationConfig:\n",
    "        config = self.config.data_transformation\n",
    "        create_directories([config.root_dir])\n",
    "        data_transformation_config = DataTransformationConfig(\n",
    "            root_dir=config.root_dir,\n",
    "            data_path=config.data_path,\n",
    "            target_column=config.target_column,\n",
    "            preprocessor_path=config.preprocessor_path,\n",
    "            label_encoder=config.label_encoder,\n",
    "            feature_encoder=config.feature_encoder  # Add this line\n",
    "        )\n",
    "        return data_transformation_config"
   ]
  },
  {
   "cell_type": "code",
   "execution_count": 7,
   "metadata": {},
   "outputs": [],
   "source": [
    "import os\n",
    "import pandas as pd\n",
    "import numpy as np\n",
    "from sklearn.model_selection import train_test_split\n",
    "from sklearn.preprocessing import StandardScaler, LabelEncoder\n",
    "from sklearn.compose import ColumnTransformer\n",
    "from sklearn.pipeline import Pipeline\n",
    "from sklearn.preprocessing import OneHotEncoder\n",
    "from imblearn.over_sampling import SMOTE\n",
    "import joblib\n",
    "from mlproject import logger"
   ]
  },
  {
   "cell_type": "code",
   "execution_count": 8,
   "metadata": {},
   "outputs": [],
   "source": [
    "class DataTransformation:\n",
    "    def __init__(self, config: DataTransformationConfig):\n",
    "        self.config = config\n",
    "        self.label_encoders = {}\n",
    "        \n",
    "        # Define column types\n",
    "        self.num_cols = ['tenure', 'MonthlyCharges', 'TotalCharges']\n",
    "        self.cat_cols_le = [\n",
    "            'gender', 'SeniorCitizen', 'Partner', 'Dependents',\n",
    "            'PhoneService', 'PaperlessBilling', 'InternetService',\n",
    "            'Contract', 'PaymentMethod', 'MultipleLines',\n",
    "            'OnlineSecurity', 'OnlineBackup', 'DeviceProtection',\n",
    "            'TechSupport', 'StreamingTV', 'StreamingMovies'\n",
    "        ]\n",
    "        self.cols_to_drop = ['customerID']\n",
    "\n",
    "    def preprocess_data(self, data: pd.DataFrame) -> pd.DataFrame:\n",
    "        try:\n",
    "            data = data.copy()\n",
    "            data = data.drop(columns=self.cols_to_drop, errors='ignore')\n",
    "            \n",
    "            # Handle TotalCharges column\n",
    "            data['TotalCharges'] = pd.to_numeric(data['TotalCharges'].str.strip(), errors='coerce')\n",
    "            data[self.num_cols] = data[self.num_cols].fillna(data[self.num_cols].mean())\n",
    "            \n",
    "            # Label encode categorical columns\n",
    "            for column in self.cat_cols_le:\n",
    "                if column in data.columns:\n",
    "                    le = LabelEncoder()\n",
    "                    data[column] = le.fit_transform(data[column].astype(str))\n",
    "                    self.label_encoders[column] = le\n",
    "            \n",
    "            # Encode target column if categorical\n",
    "            if self.config.target_column in data.columns and data[self.config.target_column].dtype == 'object':\n",
    "                le = LabelEncoder()\n",
    "                data[self.config.target_column] = le.fit_transform(data[self.config.target_column])\n",
    "                self.label_encoders[self.config.target_column] = le\n",
    "            \n",
    "            # Save label encoders\n",
    "            os.makedirs(os.path.dirname(self.config.label_encoder), exist_ok=True)\n",
    "            joblib.dump(self.label_encoders, self.config.label_encoder)\n",
    "            \n",
    "            return data\n",
    "            \n",
    "        except Exception as e:\n",
    "            logger.error(f\"Error in preprocess_data: {str(e)}\")\n",
    "            raise e\n",
    "\n",
    "    def train_test_spliting(self) -> tuple:\n",
    "        try:\n",
    "            data = pd.read_csv(self.config.data_path)\n",
    "            data = self.preprocess_data(data)\n",
    "            \n",
    "            X = data.drop(columns=[self.config.target_column])\n",
    "            y = data[self.config.target_column]\n",
    "            \n",
    "            # Apply SMOTE\n",
    "            smote = SMOTE(random_state=42)\n",
    "            X_resampled, y_resampled = smote.fit_resample(X, y)\n",
    "            \n",
    "            X_resampled = pd.DataFrame(X_resampled, columns=X.columns)\n",
    "            resampled_data = X_resampled.copy()\n",
    "            resampled_data[self.config.target_column] = y_resampled\n",
    "            \n",
    "            # Train-test split\n",
    "            train, test = train_test_split(resampled_data, test_size=0.25, random_state=42)\n",
    "            \n",
    "            # Save splits\n",
    "            train_path = os.path.join(self.config.root_dir, \"train.csv\")\n",
    "            test_path = os.path.join(self.config.root_dir, \"test.csv\")\n",
    "            train.to_csv(train_path, index=False)\n",
    "            test.to_csv(test_path, index=False)\n",
    "            \n",
    "            logger.info(f\"Original data shape: {data.shape}\")\n",
    "            logger.info(f\"Resampled data shape: {resampled_data.shape}\")\n",
    "            logger.info(f\"Training data shape: {train.shape}\")\n",
    "            logger.info(f\"Test data shape: {test.shape}\")\n",
    "            \n",
    "            return train, test\n",
    "            \n",
    "        except Exception as e:\n",
    "            logger.error(f\"Error in train_test_spliting: {str(e)}\")\n",
    "            raise e\n",
    "\n",
    "    def preprocess_features(self, train: pd.DataFrame, test: pd.DataFrame) -> tuple:\n",
    "        try:\n",
    "            numeric_transformer = Pipeline(steps=[\n",
    "                ('scaler', StandardScaler())\n",
    "            ])\n",
    "            \n",
    "            preprocessor = ColumnTransformer(\n",
    "                transformers=[\n",
    "                    ('num', numeric_transformer, self.num_cols)\n",
    "                ],\n",
    "                remainder='passthrough'\n",
    "            )\n",
    "\n",
    "            # Split features and target\n",
    "            train_x = train.drop(columns=[self.config.target_column])\n",
    "            test_x = test.drop(columns=[self.config.target_column])\n",
    "            train_y = train[self.config.target_column]\n",
    "            test_y = test[self.config.target_column]\n",
    "\n",
    "            # Apply preprocessing\n",
    "            train_processed = preprocessor.fit_transform(train_x)\n",
    "            test_processed = preprocessor.transform(test_x)\n",
    "\n",
    "            # Reshape targets\n",
    "            train_y = train_y.values.reshape(-1, 1)\n",
    "            test_y = test_y.values.reshape(-1, 1)\n",
    "\n",
    "            # Combine processed features with targets\n",
    "            train_combined = np.hstack((train_processed, train_y))\n",
    "            test_combined = np.hstack((test_processed, test_y))\n",
    "\n",
    "            # Save preprocessor and processed data\n",
    "            os.makedirs(os.path.dirname(self.config.preprocessor_path), exist_ok=True)\n",
    "            joblib.dump(preprocessor, self.config.preprocessor_path)\n",
    "            \n",
    "            np.save(os.path.join(self.config.root_dir, \"train_processed.npy\"), train_combined)\n",
    "            np.save(os.path.join(self.config.root_dir, \"test_processed.npy\"), test_combined)\n",
    "\n",
    "            logger.info(f\"Preprocessor saved at: {self.config.preprocessor_path}\")\n",
    "            logger.info(f\"Training data shape: {train_processed.shape}\")\n",
    "            logger.info(f\"Testing data shape: {test_processed.shape}\")\n",
    "            \n",
    "            return train_processed, test_processed\n",
    "            \n",
    "        except Exception as e:\n",
    "            logger.error(f\"Error in preprocess_features: {str(e)}\")\n",
    "            raise e"
   ]
  },
  {
   "cell_type": "code",
   "execution_count": 9,
   "metadata": {},
   "outputs": [
    {
     "name": "stdout",
     "output_type": "stream",
     "text": [
      "[2025-02-20 22:59:36,638 : INFO : common : yaml file: config\\config.yaml loaded successfully]\n",
      "[2025-02-20 22:59:36,641 : INFO : common : yaml file: params.yaml loaded successfully]\n",
      "[2025-02-20 22:59:36,647 : INFO : common : yaml file: schema.yaml loaded successfully]\n",
      "[2025-02-20 22:59:36,649 : INFO : common : created directory at: artifacts]\n",
      "[2025-02-20 22:59:36,651 : INFO : common : created directory at: artifacts/data_transformation]\n",
      "[2025-02-20 22:59:37,071 : INFO : 2035099503 : Original data shape: (7043, 20)]\n",
      "[2025-02-20 22:59:37,073 : INFO : 2035099503 : Resampled data shape: (10348, 20)]\n",
      "[2025-02-20 22:59:37,074 : INFO : 2035099503 : Training data shape: (7761, 20)]\n",
      "[2025-02-20 22:59:37,075 : INFO : 2035099503 : Test data shape: (2587, 20)]\n",
      "[2025-02-20 22:59:37,096 : INFO : 2035099503 : Preprocessor saved at: artifacts/data_transformation/preprocessor.pkl]\n",
      "[2025-02-20 22:59:37,097 : INFO : 2035099503 : Training data shape: (7761, 19)]\n",
      "[2025-02-20 22:59:37,098 : INFO : 2035099503 : Testing data shape: (2587, 19)]\n"
     ]
    }
   ],
   "source": [
    "try:\n",
    "    config = ConfigurationManager()\n",
    "    data_transformation_config = config.get_data_transformation_config()\n",
    "    data_transformation = DataTransformation(config=data_transformation_config)\n",
    "    train,test = data_transformation.train_test_spliting()\n",
    "    train_processed, test_processed = data_transformation.preprocess_features(train, test)\n",
    "\n",
    "except FileNotFoundError as e:\n",
    "    logger.error(f\"File not found: {e}\")\n",
    "except KeyError as e:\n",
    "    logger.error(f\"Missing key in configuration: {e}\")\n",
    "except Exception as e:\n",
    "    logger.error(f\"Unexpected error: {e}\")"
   ]
  },
  {
   "cell_type": "code",
   "execution_count": null,
   "metadata": {},
   "outputs": [],
   "source": []
  },
  {
   "cell_type": "code",
   "execution_count": null,
   "metadata": {},
   "outputs": [],
   "source": []
  }
 ],
 "metadata": {
  "kernelspec": {
   "display_name": "mlproject",
   "language": "python",
   "name": "python3"
  },
  "language_info": {
   "codemirror_mode": {
    "name": "ipython",
    "version": 3
   },
   "file_extension": ".py",
   "mimetype": "text/x-python",
   "name": "python",
   "nbconvert_exporter": "python",
   "pygments_lexer": "ipython3",
   "version": "3.10.16"
  }
 },
 "nbformat": 4,
 "nbformat_minor": 2
}
