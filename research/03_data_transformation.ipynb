{
 "cells": [
  {
   "cell_type": "code",
   "execution_count": 1,
   "metadata": {},
   "outputs": [
    {
     "name": "stdout",
     "output_type": "stream",
     "text": [
      "[2025-01-30 19:36:42,357 : INFO : __init__ : Logger has been set up successfully!]\n"
     ]
    }
   ],
   "source": [
    "import os\n",
    "import pandas as pd \n",
    "from mlproject import logger"
   ]
  },
  {
   "cell_type": "code",
   "execution_count": 2,
   "metadata": {},
   "outputs": [
    {
     "data": {
      "text/plain": [
       "'f:\\\\Files\\\\DS&ML\\\\Wine-Quality-Prediction\\\\research'"
      ]
     },
     "execution_count": 2,
     "metadata": {},
     "output_type": "execute_result"
    }
   ],
   "source": [
    "%pwd"
   ]
  },
  {
   "cell_type": "code",
   "execution_count": 3,
   "metadata": {},
   "outputs": [
    {
     "data": {
      "text/plain": [
       "'f:\\\\Files\\\\DS&ML\\\\Wine-Quality-Prediction'"
      ]
     },
     "execution_count": 3,
     "metadata": {},
     "output_type": "execute_result"
    }
   ],
   "source": [
    "os.chdir('../')\n",
    "%pwd"
   ]
  },
  {
   "cell_type": "code",
   "execution_count": 4,
   "metadata": {},
   "outputs": [],
   "source": [
    "from dataclasses import dataclass\n",
    "from pathlib import Path\n",
    "\n",
    "@dataclass(frozen=True)\n",
    "class DataTransformationConfig:\n",
    "    root_dir:Path\n",
    "    data_path: Path\n",
    "    target_column: str\n",
    "    preprocessor_path: Path"
   ]
  },
  {
   "cell_type": "code",
   "execution_count": 5,
   "metadata": {},
   "outputs": [],
   "source": [
    "from mlproject.constants import *\n",
    "from mlproject.utils.common import read_yaml,create_directories"
   ]
  },
  {
   "cell_type": "code",
   "execution_count": 6,
   "metadata": {},
   "outputs": [],
   "source": [
    "class ConfigurationManager:\n",
    "    def __init__(\n",
    "        self,\n",
    "        config_filepath = CONFIG_FILE_PATH,\n",
    "        params_filepath = PARAMS_FILE_PATH,\n",
    "        schema_filepath = SCHEMA_FILE_PATH):\n",
    "\n",
    "        self.config = read_yaml(config_filepath)\n",
    "        self.params = read_yaml(params_filepath)\n",
    "        self.schema = read_yaml(schema_filepath)\n",
    "\n",
    "        create_directories([self.config.artifacts_root])\n",
    "\n",
    "    def get_data_transformation_config(self) -> DataTransformationConfig:\n",
    "        config = self.config.data_transformation\n",
    "        create_directories([config.root_dir])\n",
    "        data_transformation_config = DataTransformationConfig(\n",
    "        root_dir=config.root_dir,\n",
    "        data_path=config.data_path,\n",
    "        target_column=config.target_column,\n",
    "        preprocessor_path=config.preprocessor_path\n",
    "        )\n",
    "    \n",
    "        return data_transformation_config"
   ]
  },
  {
   "cell_type": "code",
   "execution_count": 7,
   "metadata": {},
   "outputs": [],
   "source": [
    "import os\n",
    "import pandas as pd\n",
    "import numpy as np\n",
    "from sklearn.model_selection import train_test_split\n",
    "from sklearn.preprocessing import StandardScaler, LabelEncoder\n",
    "from sklearn.compose import ColumnTransformer\n",
    "from sklearn.pipeline import Pipeline\n",
    "from imblearn.over_sampling import SMOTE\n",
    "import joblib\n",
    "from mlproject import logger\n",
    "\n",
    "\n",
    "class DataTransformation:\n",
    "    def __init__(self, config):\n",
    "        self.config = config\n",
    "        self.label_encoder = LabelEncoder()\n",
    "\n",
    "    def train_test_spliting(self):\n",
    "        data = pd.read_csv(self.config.data_path)\n",
    "        \n",
    "        # Separate features and target before splitting\n",
    "        X = data.drop(columns=[self.config.target_column])\n",
    "        y = data[self.config.target_column]\n",
    "        \n",
    "        # Encode target labels\n",
    "        y = self.label_encoder.fit_transform(y)\n",
    "        \n",
    "        # Apply SMOTE before train-test split\n",
    "        smote = SMOTE(random_state=42)\n",
    "        X_resampled, y_resampled = smote.fit_resample(X, y)\n",
    "        \n",
    "        # Convert back to DataFrame to maintain column names\n",
    "        X_resampled = pd.DataFrame(X_resampled, columns=X.columns)\n",
    "        \n",
    "        # Combine features and target for saving\n",
    "        resampled_data = X_resampled.copy()\n",
    "        resampled_data[self.config.target_column] = y_resampled\n",
    "        \n",
    "        # Perform train-test split on resampled data\n",
    "        train, test = train_test_split(resampled_data, test_size=0.25, random_state=42)\n",
    "\n",
    "        train_path = os.path.join(self.config.root_dir, \"train.csv\")\n",
    "        test_path = os.path.join(self.config.root_dir, \"test.csv\")\n",
    "        train.to_csv(train_path, index=False)\n",
    "        test.to_csv(test_path, index=False)\n",
    "\n",
    "        logger.info(\"Applied SMOTE and split data into training and test sets\")\n",
    "        logger.info(f\"Original data shape: {data.shape}\")\n",
    "        logger.info(f\"Resampled data shape: {resampled_data.shape}\")\n",
    "        logger.info(f\"Training data shape: {train.shape}\")\n",
    "        logger.info(f\"Test data shape: {test.shape}\")\n",
    "\n",
    "        return train, test\n",
    "    \n",
    "    def preprocess_features(self, train, test):\n",
    "        # Identify numerical columns\n",
    "        numerical_columns = train.select_dtypes(include=[\"int64\", \"float64\"]).columns\n",
    "\n",
    "        # Exclude the target column from numerical columns\n",
    "        if self.config.target_column in numerical_columns:\n",
    "            numerical_columns = numerical_columns.drop(self.config.target_column)\n",
    "\n",
    "        logger.info(f\"Numerical columns: {list(numerical_columns)}\")\n",
    "\n",
    "        # Preprocessing pipelines\n",
    "        num_pipeline = Pipeline(steps=[\n",
    "            (\"scaler\", StandardScaler())\n",
    "        ])\n",
    "        \n",
    "        preprocessor = ColumnTransformer(\n",
    "            transformers=[\n",
    "                (\"num\", num_pipeline, numerical_columns),\n",
    "            ],\n",
    "            remainder=\"passthrough\"\n",
    "        )\n",
    "\n",
    "        # Separate features and target\n",
    "        train_x = train.drop(columns=[self.config.target_column])\n",
    "        test_x = test.drop(columns=[self.config.target_column])\n",
    "        train_y = train[self.config.target_column]\n",
    "        test_y = test[self.config.target_column]\n",
    "\n",
    "        # Fit preprocessor and transform features\n",
    "        train_processed = preprocessor.fit_transform(train_x)\n",
    "        test_processed = preprocessor.transform(test_x)\n",
    "\n",
    "        # Ensure target is 2D array\n",
    "        train_y = train_y.values.reshape(-1, 1)\n",
    "        test_y = test_y.values.reshape(-1, 1)\n",
    "\n",
    "        # Combine processed features with target\n",
    "        train_combined = np.hstack((train_processed, train_y))\n",
    "        test_combined = np.hstack((test_processed, test_y))\n",
    "\n",
    "        # Save preprocessor and label encoder\n",
    "        joblib.dump(preprocessor, self.config.preprocessor_path)\n",
    "        label_encoder_path = os.path.join(self.config.root_dir, \"label_encoder.pkl\")\n",
    "        joblib.dump(self.label_encoder, label_encoder_path)\n",
    "        \n",
    "        logger.info(f\"Preprocessor saved at {self.config.preprocessor_path}\")\n",
    "        logger.info(f\"Label encoder saved at {label_encoder_path}\")\n",
    "\n",
    "        # Save processed data\n",
    "        np.save(os.path.join(self.config.root_dir, \"train_processed.npy\"), train_combined)\n",
    "        np.save(os.path.join(self.config.root_dir, \"test_processed.npy\"), test_combined)\n",
    "\n",
    "        logger.info(\"Preprocessed train and test data saved successfully.\")\n",
    "        return train_processed, test_processed"
   ]
  },
  {
   "cell_type": "code",
   "execution_count": 8,
   "metadata": {},
   "outputs": [
    {
     "name": "stdout",
     "output_type": "stream",
     "text": [
      "[2025-01-30 19:36:44,659 : INFO : common : yaml file: config\\config.yaml loaded successfully]\n",
      "[2025-01-30 19:36:44,663 : INFO : common : yaml file: params.yaml loaded successfully]\n",
      "[2025-01-30 19:36:44,668 : INFO : common : yaml file: schema.yaml loaded successfully]\n",
      "[2025-01-30 19:36:44,670 : INFO : common : created directory at: artifacts]\n",
      "[2025-01-30 19:36:44,671 : INFO : common : created directory at: artifacts/data_transformation]\n",
      "[2025-01-30 19:36:44,985 : INFO : 459171045 : Applied SMOTE and split data into training and test sets]\n",
      "[2025-01-30 19:36:44,986 : INFO : 459171045 : Original data shape: (1599, 12)]\n",
      "[2025-01-30 19:36:44,987 : INFO : 459171045 : Resampled data shape: (4086, 12)]\n",
      "[2025-01-30 19:36:44,988 : INFO : 459171045 : Training data shape: (3064, 12)]\n",
      "[2025-01-30 19:36:44,989 : INFO : 459171045 : Test data shape: (1022, 12)]\n",
      "[2025-01-30 19:36:44,991 : INFO : 459171045 : Numerical columns: ['fixed acidity', 'volatile acidity', 'citric acid', 'residual sugar', 'chlorides', 'free sulfur dioxide', 'total sulfur dioxide', 'density', 'pH', 'sulphates', 'alcohol']]\n",
      "[2025-01-30 19:36:45,010 : INFO : 459171045 : Preprocessor saved at artifacts/data_transformation/preprocessor.pkl]\n",
      "[2025-01-30 19:36:45,012 : INFO : 459171045 : Label encoder saved at artifacts/data_transformation\\label_encoder.pkl]\n",
      "[2025-01-30 19:36:45,016 : INFO : 459171045 : Preprocessed train and test data saved successfully.]\n"
     ]
    }
   ],
   "source": [
    "try:\n",
    "    config = ConfigurationManager()\n",
    "    data_transformation_config = config.get_data_transformation_config()\n",
    "    data_transformation = DataTransformation(config=data_transformation_config)\n",
    "    train,test = data_transformation.train_test_spliting()\n",
    "    train_processed, test_processed = data_transformation.preprocess_features(train, test)\n",
    "\n",
    "except FileNotFoundError as e:\n",
    "    logger.error(f\"File not found: {e}\")\n",
    "except KeyError as e:\n",
    "    logger.error(f\"Missing key in configuration: {e}\")\n",
    "except Exception as e:\n",
    "    logger.error(f\"Unexpected error: {e}\")"
   ]
  },
  {
   "cell_type": "code",
   "execution_count": null,
   "metadata": {},
   "outputs": [],
   "source": []
  }
 ],
 "metadata": {
  "kernelspec": {
   "display_name": "mlproject",
   "language": "python",
   "name": "python3"
  },
  "language_info": {
   "codemirror_mode": {
    "name": "ipython",
    "version": 3
   },
   "file_extension": ".py",
   "mimetype": "text/x-python",
   "name": "python",
   "nbconvert_exporter": "python",
   "pygments_lexer": "ipython3",
   "version": "3.10.16"
  }
 },
 "nbformat": 4,
 "nbformat_minor": 2
}
