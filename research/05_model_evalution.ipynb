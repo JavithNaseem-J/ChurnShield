{
 "cells": [
  {
   "cell_type": "code",
   "execution_count": 1,
   "metadata": {},
   "outputs": [],
   "source": [
    "import os"
   ]
  },
  {
   "cell_type": "code",
   "execution_count": 2,
   "metadata": {},
   "outputs": [
    {
     "data": {
      "text/plain": [
       "'f:\\\\Files\\\\DS&ML\\\\Wine-Quality-Prediction\\\\research'"
      ]
     },
     "execution_count": 2,
     "metadata": {},
     "output_type": "execute_result"
    }
   ],
   "source": [
    "%pwd"
   ]
  },
  {
   "cell_type": "code",
   "execution_count": 3,
   "metadata": {},
   "outputs": [
    {
     "data": {
      "text/plain": [
       "'f:\\\\Files\\\\DS&ML\\\\Wine-Quality-Prediction'"
      ]
     },
     "execution_count": 3,
     "metadata": {},
     "output_type": "execute_result"
    }
   ],
   "source": [
    "os.chdir('../')\n",
    "%pwd"
   ]
  },
  {
   "cell_type": "code",
   "execution_count": 4,
   "metadata": {},
   "outputs": [
    {
     "name": "stdout",
     "output_type": "stream",
     "text": [
      "[2025-01-30 16:56:08,288 : INFO : __init__ : Logger has been set up successfully!]\n"
     ]
    }
   ],
   "source": [
    "from mlproject.constants import *"
   ]
  },
  {
   "cell_type": "code",
   "execution_count": 5,
   "metadata": {},
   "outputs": [],
   "source": [
    "from dataclasses import dataclass\n",
    "from pathlib import Path\n",
    "from sklearn.metrics import accuracy_score, precision_score, recall_score, f1_score\n",
    "import pandas as pd\n",
    "import joblib\n",
    "import json\n",
    "from mlproject.constants import *\n",
    "from mlproject.utils.common import read_yaml, create_directories, save_json\n",
    "from mlproject import logger"
   ]
  },
  {
   "cell_type": "code",
   "execution_count": 6,
   "metadata": {},
   "outputs": [],
   "source": [
    "@dataclass\n",
    "class ModelEvaluationConfig:\n",
    "    root_dir:Path\n",
    "    model_path:Path\n",
    "    test_data_path:Path\n",
    "    all_params:dict\n",
    "    metric_file_path:Path\n",
    "    preprocessor_path: Path\n",
    "    target_column:str"
   ]
  },
  {
   "cell_type": "code",
   "execution_count": 7,
   "metadata": {},
   "outputs": [],
   "source": [
    "class ConfigurationManager:\n",
    "    def __init__(\n",
    "        self,\n",
    "        config_filepath=CONFIG_FILE_PATH,\n",
    "        params_filepath=PARAMS_FILE_PATH,\n",
    "        schema_filepath=SCHEMA_FILE_PATH,\n",
    "    ):\n",
    "        self.config = read_yaml(config_filepath)\n",
    "        self.params = read_yaml(params_filepath)\n",
    "        self.schema = read_yaml(schema_filepath)\n",
    "\n",
    "        create_directories([self.config[\"artifacts_root\"]])\n",
    "\n",
    "\n",
    "    def get_model_evaluation_config(self) -> ModelEvaluationConfig:\n",
    "        config = self.config.model_evaluation\n",
    "        params = self.params.RandomForestClassifier\n",
    "        schema = self.schema.TARGET_COLUMN\n",
    "\n",
    "        create_directories([config.root_dir])\n",
    "\n",
    "        model_evaluation_config = ModelEvaluationConfig(\n",
    "            root_dir=config.root_dir,\n",
    "            test_data_path=config.test_data_path,\n",
    "            model_path=config.model_path,\n",
    "            all_params=params,\n",
    "            metric_file_path=config.metric_file_path,\n",
    "            preprocessor_path=config.preprocessor_path,\n",
    "            target_column=schema.name,\n",
    "        )\n",
    "        return model_evaluation_config"
   ]
  },
  {
   "cell_type": "code",
   "execution_count": 8,
   "metadata": {},
   "outputs": [],
   "source": [
    "class ModelEvaluation:\n",
    "    def __init__(self, config: ModelEvaluationConfig):\n",
    "        self.config = config\n",
    "\n",
    "    def evaluate(self):\n",
    "        # Validate file paths\n",
    "        if not os.path.exists(self.config.test_data_path):\n",
    "            raise FileNotFoundError(f\"Test data file not found at {self.config.test_data_path}\")\n",
    "        if not os.path.exists(self.config.preprocessor_path):\n",
    "            raise FileNotFoundError(f\"Preprocessor file not found at {self.config.preprocessor_path}\")\n",
    "        if not os.path.exists(self.config.model_path):\n",
    "            raise FileNotFoundError(f\"Model file not found at {self.config.model_path}\")\n",
    "\n",
    "        # Load preprocessor and model\n",
    "        logger.info(\"Loading preprocessor and model...\")\n",
    "        preprocessor = joblib.load(self.config.preprocessor_path)\n",
    "        model = joblib.load(self.config.model_path)\n",
    "\n",
    "        # Load test data\n",
    "        logger.info(f\"Loading test data from {self.config.test_data_path}...\")\n",
    "        test_data = pd.read_csv(self.config.test_data_path)\n",
    "\n",
    "        # Extract target column\n",
    "        if self.config.target_column not in test_data.columns:\n",
    "            raise KeyError(f\"Target column '{self.config.target_column}' not found in test data\")\n",
    "\n",
    "        test_y = test_data[self.config.target_column]\n",
    "        test_x = test_data.drop(columns=[self.config.target_column])\n",
    "\n",
    "        logger.info(f\"Test data shape: X={test_x.shape}, y={test_y.shape}\")\n",
    "\n",
    "        # Preprocess test features\n",
    "        logger.info(\"Preprocessing test features...\")\n",
    "        test_x_transformed = preprocessor.transform(test_x)\n",
    "\n",
    "        # Make predictions\n",
    "        logger.info(\"Making predictions on the test data...\")\n",
    "        predictions = model.predict(test_x_transformed)\n",
    "\n",
    "        # Evaluate the model\n",
    "        logger.info(\"Evaluating model performance...\")\n",
    "        accuracy = accuracy_score(test_y, predictions)\n",
    "        precision = precision_score(test_y, predictions, average=\"weighted\")\n",
    "        recall = recall_score(test_y, predictions, average=\"weighted\")\n",
    "        f1 = f1_score(test_y, predictions, average=\"weighted\")\n",
    "\n",
    "        logger.info(f\"Model Evaluation Metrics:\\naccuracy: {accuracy}\\nprecision: {precision}\\nrecall: {recall}\\nf1: {f1}\")\n",
    "\n",
    "        # Save the evaluation metrics\n",
    "        metrics_path = os.path.join(self.config.root_dir, \"metrics.json\")\n",
    "        metrics = {\n",
    "            \"accuracy\": accuracy,\n",
    "            \"precision\": precision,\n",
    "            \"recall\": recall,\n",
    "            \"f1\": f1\n",
    "        }\n",
    "        with open(metrics_path, \"w\") as f:\n",
    "            json.dump(metrics, f, indent=4)\n",
    "        logger.info(f\"Evaluation metrics saved at {metrics_path}\")\n",
    "\n",
    "        return metrics"
   ]
  },
  {
   "cell_type": "code",
   "execution_count": 9,
   "metadata": {},
   "outputs": [
    {
     "name": "stdout",
     "output_type": "stream",
     "text": [
      "[2025-01-30 16:56:10,065 : INFO : common : yaml file: config\\config.yaml loaded successfully]\n",
      "[2025-01-30 16:56:10,069 : INFO : common : yaml file: params.yaml loaded successfully]\n",
      "[2025-01-30 16:56:10,073 : INFO : common : yaml file: schema.yaml loaded successfully]\n",
      "[2025-01-30 16:56:10,075 : INFO : common : created directory at: artifacts]\n",
      "[2025-01-30 16:56:10,076 : INFO : common : created directory at: artifacts/model_evaluation]\n",
      "[2025-01-30 16:56:10,079 : INFO : 1798623205 : Loading preprocessor and model...]\n",
      "[2025-01-30 16:56:10,389 : INFO : 1798623205 : Loading test data from artifacts/data_transformation/test.csv...]\n",
      "[2025-01-30 16:56:10,406 : INFO : 1798623205 : Test data shape: X=(400, 11), y=(400,)]\n",
      "[2025-01-30 16:56:10,407 : INFO : 1798623205 : Preprocessing test features...]\n",
      "[2025-01-30 16:56:10,412 : INFO : 1798623205 : Making predictions on the test data...]\n",
      "[2025-01-30 16:56:10,434 : INFO : 1798623205 : Evaluating model performance...]\n",
      "[2025-01-30 16:56:10,447 : INFO : 1798623205 : Model Evaluation Metrics:\n",
      "accuracy: 0.665\n",
      "precision: 0.6356147105219582\n",
      "recall: 0.665\n",
      "f1: 0.6496062566367766]\n",
      "[2025-01-30 16:56:10,449 : INFO : 1798623205 : Evaluation metrics saved at artifacts/model_evaluation\\metrics.json]\n"
     ]
    },
    {
     "name": "stderr",
     "output_type": "stream",
     "text": [
      "f:\\ProgramFiles\\anaconda3\\envs\\mlproject\\lib\\site-packages\\sklearn\\metrics\\_classification.py:1565: UndefinedMetricWarning: Precision is ill-defined and being set to 0.0 in labels with no predicted samples. Use `zero_division` parameter to control this behavior.\n",
      "  _warn_prf(average, modifier, f\"{metric.capitalize()} is\", len(result))\n"
     ]
    }
   ],
   "source": [
    "try:\n",
    "    config = ConfigurationManager()\n",
    "    model_evaluation_config = config.get_model_evaluation_config()\n",
    "    model_evaluation = ModelEvaluation(config=model_evaluation_config)\n",
    "    metrics = model_evaluation.evaluate()\n",
    "\n",
    "except FileNotFoundError as e:\n",
    "    logger.error(f\"File not found: {e}\")\n",
    "except KeyError as e:\n",
    "    logger.error(f\"Missing key in configuration or data: {e}\")\n",
    "except Exception as e:\n",
    "    logger.error(f\"Unexpected error: {e}\")"
   ]
  },
  {
   "cell_type": "code",
   "execution_count": null,
   "metadata": {},
   "outputs": [],
   "source": []
  }
 ],
 "metadata": {
  "kernelspec": {
   "display_name": "mlproject",
   "language": "python",
   "name": "python3"
  },
  "language_info": {
   "codemirror_mode": {
    "name": "ipython",
    "version": 3
   },
   "file_extension": ".py",
   "mimetype": "text/x-python",
   "name": "python",
   "nbconvert_exporter": "python",
   "pygments_lexer": "ipython3",
   "version": "3.10.16"
  }
 },
 "nbformat": 4,
 "nbformat_minor": 2
}
