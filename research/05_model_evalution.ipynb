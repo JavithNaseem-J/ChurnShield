{
 "cells": [
  {
   "cell_type": "code",
   "execution_count": 1,
   "metadata": {},
   "outputs": [],
   "source": [
    "import os"
   ]
  },
  {
   "cell_type": "code",
   "execution_count": 2,
   "metadata": {},
   "outputs": [
    {
     "data": {
      "text/plain": [
       "'f:\\\\Files\\\\DS&ML\\\\Wine-Quality-Prediction\\\\research'"
      ]
     },
     "execution_count": 2,
     "metadata": {},
     "output_type": "execute_result"
    }
   ],
   "source": [
    "%pwd"
   ]
  },
  {
   "cell_type": "code",
   "execution_count": 3,
   "metadata": {},
   "outputs": [
    {
     "data": {
      "text/plain": [
       "'f:\\\\Files\\\\DS&ML\\\\Wine-Quality-Prediction'"
      ]
     },
     "execution_count": 3,
     "metadata": {},
     "output_type": "execute_result"
    }
   ],
   "source": [
    "os.chdir('../')\n",
    "%pwd"
   ]
  },
  {
   "cell_type": "code",
   "execution_count": 4,
   "metadata": {},
   "outputs": [
    {
     "name": "stdout",
     "output_type": "stream",
     "text": [
      "[2025-02-13 22:03:58,731 : INFO : __init__ : Logger has been set up successfully!]\n"
     ]
    }
   ],
   "source": [
    "from mlproject.constants import *"
   ]
  },
  {
   "cell_type": "code",
   "execution_count": 5,
   "metadata": {},
   "outputs": [],
   "source": [
    "from dataclasses import dataclass\n",
    "from pathlib import Path\n",
    "import os\n",
    "import pandas as pd\n",
    "import numpy as np\n",
    "import joblib\n",
    "import json\n",
    "import mlflow\n",
    "import dagshub\n",
    "from sklearn.metrics import accuracy_score, precision_score, recall_score, f1_score\n",
    "import logging"
   ]
  },
  {
   "cell_type": "code",
   "execution_count": 6,
   "metadata": {},
   "outputs": [],
   "source": [
    "from dataclasses import dataclass\n",
    "import pandas as pd\n",
    "import joblib\n",
    "import json\n",
    "from mlproject.constants import *\n",
    "from mlproject.utils.common import read_yaml, create_directories, save_json\n",
    "from mlproject import logger"
   ]
  },
  {
   "cell_type": "code",
   "execution_count": 7,
   "metadata": {},
   "outputs": [],
   "source": [
    "@dataclass\n",
    "class ModelEvaluationConfig:\n",
    "    root_dir: Path\n",
    "    model_path: Path\n",
    "    test_data_path: Path\n",
    "    all_params: dict\n",
    "    metric_file_path: Path\n",
    "    preprocessor_path: Path\n",
    "    target_column: str"
   ]
  },
  {
   "cell_type": "code",
   "execution_count": 8,
   "metadata": {},
   "outputs": [],
   "source": [
    "class ConfigurationManager:\n",
    "    def __init__(\n",
    "        self,\n",
    "        config_filepath=CONFIG_FILE_PATH,\n",
    "        params_filepath=PARAMS_FILE_PATH,\n",
    "        schema_filepath=SCHEMA_FILE_PATH,\n",
    "    ):\n",
    "        self.config = read_yaml(config_filepath)\n",
    "        self.params = read_yaml(params_filepath)\n",
    "        self.schema = read_yaml(schema_filepath)\n",
    "\n",
    "        create_directories([self.config[\"artifacts_root\"]])\n",
    "\n",
    "\n",
    "    def get_model_evaluation_config(self) -> ModelEvaluationConfig:\n",
    "        config = self.config.model_evaluation\n",
    "        params = self.params.CatBoostClassifier\n",
    "        schema = self.schema.TARGET_COLUMN\n",
    "\n",
    "        create_directories([config.root_dir])\n",
    "\n",
    "        model_evaluation_config = ModelEvaluationConfig(\n",
    "            root_dir=config.root_dir,\n",
    "            test_data_path=config.test_data_path,\n",
    "            model_path=config.model_path,\n",
    "            all_params=params,\n",
    "            metric_file_path=config.metric_file_path,\n",
    "            preprocessor_path=config.preprocessor_path,\n",
    "            target_column=schema.name,\n",
    "        )\n",
    "        return model_evaluation_config"
   ]
  },
  {
   "cell_type": "code",
   "execution_count": null,
   "metadata": {},
   "outputs": [],
   "source": [
    "class ModelEvaluation:\n",
    "    def __init__(self, config: ModelEvaluationConfig):\n",
    "        self.config = config\n",
    "        \n",
    "        # Initialize MLflow tracking\n",
    "        os.environ['MLFLOW_TRACKING_USERNAME'] = \"JavithNaseem-J\"\n",
    "        os.environ['MLFLOW_TRACKING_PASSWORD'] = \"fc8980ed3562ad9f63b1351811c99954c11dd06b\"\n",
    "        \n",
    "        dagshub.init(repo_owner=\"JavithNaseem-J\", repo_name=\"Wine-Quality-Prediction\")\n",
    "        mlflow.set_tracking_uri(\"https://dagshub.com/JavithNaseem-J/Wine-Quality-Prediction.mlflow\")\n",
    "        mlflow.set_experiment(\"wine_quality_prediction\")\n",
    "\n",
    "    def evaluate(self):\n",
    "        try:\n",
    "\n",
    "            with mlflow.start_run():\n",
    "                # Set tags for the run\n",
    "                mlflow.set_tag(\"model_type\", \"CatBoostClassifier\")\n",
    "                mlflow.set_tag(\"evaluation_stage\", \"testing\")\n",
    "\n",
    "                # Load preprocessor and model\n",
    "                logger.info(\"Loading preprocessor and model...\")\n",
    "                preprocessor = joblib.load(self.config.preprocessor_path)\n",
    "                model = joblib.load(self.config.model_path)\n",
    "\n",
    "                # Log model parameters\n",
    "                mlflow.log_params(self.config.all_params)\n",
    "\n",
    "                # Load test data\n",
    "                logger.info(f\"Loading test data from {self.config.test_data_path}...\")\n",
    "                test_data = pd.read_csv(self.config.test_data_path)\n",
    "\n",
    "                # Extract target column\n",
    "                if self.config.target_column not in test_data.columns:\n",
    "                    raise KeyError(f\"Target column '{self.config.target_column}' not found in test data\")\n",
    "\n",
    "                test_y = test_data[self.config.target_column]\n",
    "                test_x = test_data.drop(columns=[self.config.target_column])\n",
    "\n",
    "                logger.info(f\"Test data shape: X={test_x.shape}, y={test_y.shape}\")\n",
    "\n",
    "                # Preprocess test features\n",
    "                logger.info(\"Preprocessing test features...\")\n",
    "                test_x_transformed = preprocessor.transform(test_x)\n",
    "\n",
    "                # Make predictions\n",
    "                logger.info(\"Making predictions on the test data...\")\n",
    "                predictions = model.predict(test_x_transformed)\n",
    "\n",
    "                # Calculate and log metrics\n",
    "                logger.info(\"Evaluating model performance...\")\n",
    "                metrics = {\n",
    "                    \"accuracy\": accuracy_score(test_y, predictions),\n",
    "                    \"precision\": precision_score(test_y, predictions, average=\"weighted\"),\n",
    "                    \"recall\": recall_score(test_y, predictions, average=\"weighted\"),\n",
    "                    \"f1\": f1_score(test_y, predictions, average=\"weighted\")\n",
    "                }\n",
    "\n",
    "                # Log metrics to MLflow\n",
    "                mlflow.log_metrics(metrics)\n",
    "\n",
    "                # Log model with signature\n",
    "                signature = mlflow.models.infer_signature(\n",
    "                    test_x_transformed, predictions\n",
    "                )\n",
    "                mlflow.sklearn.log_model(\n",
    "                    model,\n",
    "                    \"wine_quality_model\",\n",
    "                    signature=signature,\n",
    "                    registered_model_name=\"WineQualityClassifier\"\n",
    "                )\n",
    "\n",
    "                logger.info(f\"Model Evaluation Metrics:\\naccuracy: {metrics['accuracy']}\\n\"\n",
    "                          f\"precision: {metrics['precision']}\\nrecall: {metrics['recall']}\\n\"\n",
    "                          f\"f1: {metrics['f1']}\")\n",
    "\n",
    "                # Save metrics locally\n",
    "                metrics_path = os.path.join(self.config.root_dir, \"metrics.json\")\n",
    "                with open(metrics_path, \"w\") as f:\n",
    "                    json.dump(metrics, f, indent=4)\n",
    "                logger.info(f\"Evaluation metrics saved at {metrics_path}\")\n",
    "\n",
    "                return metrics\n",
    "\n",
    "        except Exception as e:\n",
    "            logger.error(f\"Error in model evaluation: {str(e)}\")\n",
    "            raise e"
   ]
  },
  {
   "cell_type": "code",
   "execution_count": 10,
   "metadata": {},
   "outputs": [
    {
     "name": "stdout",
     "output_type": "stream",
     "text": [
      "[2025-02-13 22:04:03,520 : INFO : common : yaml file: config\\config.yaml loaded successfully]\n",
      "[2025-02-13 22:04:03,532 : INFO : common : yaml file: params.yaml loaded successfully]\n",
      "[2025-02-13 22:04:03,535 : INFO : common : yaml file: schema.yaml loaded successfully]\n",
      "[2025-02-13 22:04:03,535 : INFO : common : created directory at: artifacts]\n",
      "[2025-02-13 22:04:03,535 : INFO : common : created directory at: artifacts/model_evaluation]\n"
     ]
    },
    {
     "data": {
      "text/html": [
       "<pre style=\"white-space:pre;overflow-x:auto;line-height:normal;font-family:Menlo,'DejaVu Sans Mono',consolas,'Courier New',monospace\">Accessing as JavithNaseem-J\n",
       "</pre>\n"
      ],
      "text/plain": [
       "Accessing as JavithNaseem-J\n"
      ]
     },
     "metadata": {},
     "output_type": "display_data"
    },
    {
     "data": {
      "text/html": [
       "<pre style=\"white-space:pre;overflow-x:auto;line-height:normal;font-family:Menlo,'DejaVu Sans Mono',consolas,'Courier New',monospace\">Initialized MLflow to track repo <span style=\"color: #008000; text-decoration-color: #008000\">\"JavithNaseem-J/Wine-Quality-Prediction\"</span>\n",
       "</pre>\n"
      ],
      "text/plain": [
       "Initialized MLflow to track repo \u001b[32m\"JavithNaseem-J/Wine-Quality-Prediction\"\u001b[0m\n"
      ]
     },
     "metadata": {},
     "output_type": "display_data"
    },
    {
     "data": {
      "text/html": [
       "<pre style=\"white-space:pre;overflow-x:auto;line-height:normal;font-family:Menlo,'DejaVu Sans Mono',consolas,'Courier New',monospace\">Repository JavithNaseem-J/Wine-Quality-Prediction initialized!\n",
       "</pre>\n"
      ],
      "text/plain": [
       "Repository JavithNaseem-J/Wine-Quality-Prediction initialized!\n"
      ]
     },
     "metadata": {},
     "output_type": "display_data"
    },
    {
     "name": "stderr",
     "output_type": "stream",
     "text": [
      "2025/02/13 22:04:05 INFO mlflow.tracking.fluent: Experiment with name 'wine_quality_prediction' does not exist. Creating a new experiment.\n"
     ]
    },
    {
     "name": "stdout",
     "output_type": "stream",
     "text": [
      "[2025-02-13 22:04:07,452 : INFO : 3856527910 : Loading preprocessor and model...]\n",
      "[2025-02-13 22:04:08,599 : INFO : 3856527910 : Loading test data from artifacts/data_transformation/test.csv...]\n",
      "[2025-02-13 22:04:08,637 : INFO : 3856527910 : Test data shape: X=(1022, 11), y=(1022,)]\n",
      "[2025-02-13 22:04:08,637 : INFO : 3856527910 : Preprocessing test features...]\n",
      "[2025-02-13 22:04:08,637 : INFO : 3856527910 : Making predictions on the test data...]\n",
      "[2025-02-13 22:04:08,684 : INFO : 3856527910 : Evaluating model performance...]\n"
     ]
    },
    {
     "name": "stderr",
     "output_type": "stream",
     "text": [
      "Successfully registered model 'WineQualityClassifier'.\n",
      "2025/02/13 22:04:28 INFO mlflow.store.model_registry.abstract_store: Waiting up to 300 seconds for model version to finish creation. Model name: WineQualityClassifier, version 1\n"
     ]
    },
    {
     "name": "stdout",
     "output_type": "stream",
     "text": [
      "[2025-02-13 22:04:28,270 : INFO : 3856527910 : Model Evaluation Metrics:\n",
      "accuracy: 0.8336594911937377\n",
      "precision: 0.826707337387785\n",
      "recall: 0.8336594911937377\n",
      "f1: 0.8250309018964447]\n",
      "[2025-02-13 22:04:28,270 : INFO : 3856527910 : Evaluation metrics saved at artifacts/model_evaluation\\metrics.json]\n"
     ]
    },
    {
     "name": "stderr",
     "output_type": "stream",
     "text": [
      "Created version '1' of model 'WineQualityClassifier'.\n"
     ]
    },
    {
     "name": "stdout",
     "output_type": "stream",
     "text": [
      "🏃 View run omniscient-bear-864 at: https://dagshub.com/JavithNaseem-J/Wine-Quality-Prediction.mlflow/#/experiments/1/runs/3bbe6aee33be4fd58e0a6f8529e07ab3\n",
      "🧪 View experiment at: https://dagshub.com/JavithNaseem-J/Wine-Quality-Prediction.mlflow/#/experiments/1\n"
     ]
    }
   ],
   "source": [
    "try:\n",
    "    config = ConfigurationManager()\n",
    "    model_evaluation_config = config.get_model_evaluation_config()\n",
    "    model_evaluation = ModelEvaluation(config=model_evaluation_config)\n",
    "    metrics = model_evaluation.evaluate()\n",
    "\n",
    "except FileNotFoundError as e:\n",
    "    logger.error(f\"File not found: {e}\")\n",
    "except KeyError as e:\n",
    "    logger.error(f\"Missing key in configuration or data: {e}\")\n",
    "except Exception as e:\n",
    "    logger.error(f\"Unexpected error: {e}\")"
   ]
  },
  {
   "cell_type": "code",
   "execution_count": null,
   "metadata": {},
   "outputs": [],
   "source": []
  }
 ],
 "metadata": {
  "kernelspec": {
   "display_name": "mlproject",
   "language": "python",
   "name": "python3"
  },
  "language_info": {
   "codemirror_mode": {
    "name": "ipython",
    "version": 3
   },
   "file_extension": ".py",
   "mimetype": "text/x-python",
   "name": "python",
   "nbconvert_exporter": "python",
   "pygments_lexer": "ipython3",
   "version": "3.10.16"
  }
 },
 "nbformat": 4,
 "nbformat_minor": 2
}
