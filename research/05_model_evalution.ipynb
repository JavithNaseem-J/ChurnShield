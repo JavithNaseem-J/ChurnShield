{
 "cells": [
  {
   "cell_type": "code",
   "execution_count": 1,
   "metadata": {},
   "outputs": [],
   "source": [
    "import os"
   ]
  },
  {
   "cell_type": "code",
   "execution_count": 2,
   "metadata": {},
   "outputs": [
    {
     "data": {
      "text/plain": [
       "'f:\\\\Files\\\\DS&ML\\\\Tele-Com-Customer-Churn-Prediction\\\\research'"
      ]
     },
     "execution_count": 2,
     "metadata": {},
     "output_type": "execute_result"
    }
   ],
   "source": [
    "%pwd"
   ]
  },
  {
   "cell_type": "code",
   "execution_count": 3,
   "metadata": {},
   "outputs": [
    {
     "data": {
      "text/plain": [
       "'f:\\\\Files\\\\DS&ML\\\\Tele-Com-Customer-Churn-Prediction'"
      ]
     },
     "execution_count": 3,
     "metadata": {},
     "output_type": "execute_result"
    }
   ],
   "source": [
    "os.chdir('../')\n",
    "%pwd"
   ]
  },
  {
   "cell_type": "code",
   "execution_count": 4,
   "metadata": {},
   "outputs": [],
   "source": [
    "from mlproject.constants import *"
   ]
  },
  {
   "cell_type": "code",
   "execution_count": 5,
   "metadata": {},
   "outputs": [],
   "source": [
    "from dataclasses import dataclass\n",
    "from pathlib import Path\n",
    "import os\n",
    "import pandas as pd\n",
    "import numpy as np\n",
    "import joblib\n",
    "import json\n",
    "import mlflow\n",
    "import dagshub\n",
    "from sklearn.metrics import accuracy_score, precision_score, recall_score, f1_score\n",
    "import logging"
   ]
  },
  {
   "cell_type": "code",
   "execution_count": 6,
   "metadata": {},
   "outputs": [],
   "source": [
    "from dataclasses import dataclass\n",
    "import pandas as pd\n",
    "import joblib\n",
    "import json\n",
    "from mlproject.constants import *\n",
    "from mlproject.utils.common import read_yaml, create_directories, save_json\n",
    "from mlproject import logger"
   ]
  },
  {
   "cell_type": "code",
   "execution_count": 7,
   "metadata": {},
   "outputs": [],
   "source": [
    "@dataclass\n",
    "class ModelEvaluationConfig:\n",
    "    root_dir: Path\n",
    "    model_path: Path\n",
    "    metric_file_path: Path\n",
    "    preprocessor_path: Path\n",
    "    test_raw_data: Path  \n",
    "    target_column: str\n",
    "    all_params: dict"
   ]
  },
  {
   "cell_type": "code",
   "execution_count": 8,
   "metadata": {},
   "outputs": [],
   "source": [
    "class ConfigurationManager:\n",
    "    def __init__(\n",
    "        self,\n",
    "        config_filepath=CONFIG_FILE_PATH,\n",
    "        params_filepath=PARAMS_FILE_PATH,\n",
    "        schema_filepath=SCHEMA_FILE_PATH,\n",
    "    ):\n",
    "        self.config = read_yaml(config_filepath)\n",
    "        self.params = read_yaml(params_filepath)\n",
    "        self.schema = read_yaml(schema_filepath)\n",
    "\n",
    "        create_directories([self.config.artifacts_root])\n",
    "\n",
    "    def get_model_evaluation_config(self) -> ModelEvaluationConfig:\n",
    "        config = self.config.model_evaluation\n",
    "        params = self.params.LGBMClassifier\n",
    "        schema = self.schema.TARGET_COLUMN\n",
    "\n",
    "        create_directories([config.root_dir])\n",
    "\n",
    "        model_evaluation_config = ModelEvaluationConfig(\n",
    "            root_dir=config.root_dir,\n",
    "            model_path=config.model_path,\n",
    "            metric_file_path=config.metric_file_path,\n",
    "            preprocessor_path=config.preprocessor_path,\n",
    "            test_raw_data=config.test_raw_data,  # Using the correct attribute name from config\n",
    "            target_column=schema.name,\n",
    "            all_params=params\n",
    "        )\n",
    "        return model_evaluation_config"
   ]
  },
  {
   "cell_type": "code",
   "execution_count": 9,
   "metadata": {},
   "outputs": [],
   "source": [
    "class ModelEvaluation:\n",
    "    def __init__(self, config: ModelEvaluationConfig):\n",
    "        self.config = config\n",
    "        \n",
    "        # Initialize MLflow tracking\n",
    "        os.environ['MLFLOW_TRACKING_USERNAME'] = \"JavithNaseem-J\"\n",
    "        os.environ['MLFLOW_TRACKING_PASSWORD'] = \"39af2ec9240d8439ca7a568d37e4c8566f0e4507\"\n",
    "        \n",
    "        dagshub.init(repo_owner=\"JavithNaseem-J\", repo_name=\"Telecom-Customer-Churn-Prediction\")\n",
    "        mlflow.set_tracking_uri(\"https://dagshub.com/JavithNaseem-J/Telecom-Customer-Churn-Prediction.mlflow\")\n",
    "        mlflow.set_experiment(\"Telecom-Customer-Churn-Prediction\")\n",
    "\n",
    "    def evaluate(self):\n",
    "        try:\n",
    "            # Validate file paths using Path objects for cross-platform compatibility\n",
    "            if not Path(self.config.test_raw_data).exists():\n",
    "                raise FileNotFoundError(f\"Test data file not found at {self.config.test_raw_data}\")\n",
    "            if not Path(self.config.preprocessor_path).exists():\n",
    "                raise FileNotFoundError(f\"Preprocessor file not found at {self.config.preprocessor_path}\")\n",
    "            if not Path(self.config.model_path).exists():\n",
    "                raise FileNotFoundError(f\"Model file not found at {self.config.model_path}\")\n",
    "\n",
    "            with mlflow.start_run():\n",
    "                # Set tags for the run\n",
    "                mlflow.set_tag(\"model_type\", \"CatBoostClassifier\")\n",
    "                mlflow.set_tag(\"evaluation_stage\", \"testing\")\n",
    "\n",
    "                # Load preprocessor and model\n",
    "                logger.info(\"Loading preprocessor and model...\")\n",
    "                preprocessor = joblib.load(self.config.preprocessor_path)\n",
    "                model = joblib.load(self.config.model_path)\n",
    "\n",
    "                # Log model parameters\n",
    "                mlflow.log_params(self.config.all_params)\n",
    "\n",
    "                # Load test data\n",
    "                logger.info(f\"Loading test data from {self.config.test_raw_data}...\")\n",
    "                test_data = pd.read_csv(self.config.test_raw_data)\n",
    "                \n",
    "                # Use the original column names instead of converting to lowercase\n",
    "                target_column = self.config.target_column  # Keep original case\n",
    "\n",
    "                # Extract target column\n",
    "                if target_column not in test_data.columns:\n",
    "                    raise KeyError(f\"Target column '{target_column}' not found in test data. Available columns: {list(test_data.columns)}\")\n",
    "\n",
    "                test_y = test_data[target_column]\n",
    "                test_x = test_data.drop(columns=[target_column])\n",
    "\n",
    "                logger.info(f\"Test data shape: X={test_x.shape}, y={test_y.shape}\")\n",
    "\n",
    "                # Preprocess test features\n",
    "                logger.info(\"Preprocessing test features...\")\n",
    "                test_x_transformed = preprocessor.transform(test_x)\n",
    "\n",
    "                # Make predictions\n",
    "                logger.info(\"Making predictions on the test data...\")\n",
    "                predictions = model.predict(test_x_transformed)\n",
    "\n",
    "                # Calculate and log metrics\n",
    "                logger.info(\"Evaluating model performance...\")\n",
    "                \n",
    "                # Handle potential warnings for classification metrics\n",
    "                try:\n",
    "                    precision = precision_score(test_y, predictions, average=\"weighted\")\n",
    "                    recall = recall_score(test_y, predictions, average=\"weighted\")\n",
    "                    f1 = f1_score(test_y, predictions, average=\"weighted\")\n",
    "                except Exception as metric_error:\n",
    "                    logger.warning(f\"Error calculating some metrics: {str(metric_error)}. Using zero-division=0.\")\n",
    "                    precision = precision_score(test_y, predictions, average=\"weighted\", zero_division=0)\n",
    "                    recall = recall_score(test_y, predictions, average=\"weighted\", zero_division=0)\n",
    "                    f1 = f1_score(test_y, predictions, average=\"weighted\", zero_division=0)\n",
    "                \n",
    "                metrics = {\n",
    "                    \"accuracy\": accuracy_score(test_y, predictions),\n",
    "                    \"precision\": precision,\n",
    "                    \"recall\": recall,\n",
    "                    \"f1\": f1\n",
    "                }\n",
    "\n",
    "                # Log metrics to MLflow\n",
    "                mlflow.log_metrics(metrics)\n",
    "\n",
    "                # Log model with signature\n",
    "                signature = mlflow.models.infer_signature(\n",
    "                    test_x_transformed, predictions\n",
    "                )\n",
    "                mlflow.sklearn.log_model(\n",
    "                    model,\n",
    "                    \"TelecomCustomerChurnModel\",\n",
    "                    signature=signature,\n",
    "                    registered_model_name=\"TelecomCustomerChurnModel\"\n",
    "                )\n",
    "\n",
    "                logger.info(f\"Model Evaluation Metrics:\\naccuracy: {metrics['accuracy']}\\n\"\n",
    "                          f\"precision: {metrics['precision']}\\nrecall: {metrics['recall']}\\n\"\n",
    "                          f\"f1: {metrics['f1']}\")\n",
    "\n",
    "                # Save metrics locally using Path for cross-platform compatibility\n",
    "                metrics_file = Path(self.config.root_dir) / \"metrics.json\"\n",
    "                with open(metrics_file, \"w\") as f:\n",
    "                    json.dump(metrics, f, indent=4)\n",
    "                    \n",
    "                logger.info(f\"Evaluation metrics saved at {metrics_file}\")\n",
    "\n",
    "                return metrics\n",
    "\n",
    "        except Exception as e:\n",
    "            logger.error(f\"Error in model evaluation: {str(e)}\")\n",
    "            raise e"
   ]
  },
  {
   "cell_type": "code",
   "execution_count": 10,
   "metadata": {},
   "outputs": [
    {
     "name": "stdout",
     "output_type": "stream",
     "text": [
      "[2025-03-04 11:43:30,554: INFO: common: yaml file: config\\config.yaml loaded successfully]\n",
      "[2025-03-04 11:43:30,559: INFO: common: yaml file: params.yaml loaded successfully]\n",
      "[2025-03-04 11:43:30,569: INFO: common: yaml file: schema.yaml loaded successfully]\n",
      "[2025-03-04 11:43:30,574: INFO: common: created directory at: artifacts]\n",
      "[2025-03-04 11:43:30,582: INFO: common: created directory at: artifacts/model_evaluation]\n",
      "[2025-03-04 11:43:31,167: INFO: _client: HTTP Request: GET https://dagshub.com/api/v1/user \"HTTP/1.1 200 OK\"]\n"
     ]
    },
    {
     "data": {
      "text/html": [
       "<pre style=\"white-space:pre;overflow-x:auto;line-height:normal;font-family:Menlo,'DejaVu Sans Mono',consolas,'Courier New',monospace\">Accessing as JavithNaseem-J\n",
       "</pre>\n"
      ],
      "text/plain": [
       "Accessing as JavithNaseem-J\n"
      ]
     },
     "metadata": {},
     "output_type": "display_data"
    },
    {
     "name": "stdout",
     "output_type": "stream",
     "text": [
      "[2025-03-04 11:43:31,179: INFO: helpers: Accessing as JavithNaseem-J]\n",
      "[2025-03-04 11:43:31,791: INFO: _client: HTTP Request: GET https://dagshub.com/api/v1/repos/JavithNaseem-J/Telecom-Customer-Churn-Prediction \"HTTP/1.1 200 OK\"]\n",
      "[2025-03-04 11:43:32,356: INFO: _client: HTTP Request: GET https://dagshub.com/api/v1/user \"HTTP/1.1 200 OK\"]\n"
     ]
    },
    {
     "data": {
      "text/html": [
       "<pre style=\"white-space:pre;overflow-x:auto;line-height:normal;font-family:Menlo,'DejaVu Sans Mono',consolas,'Courier New',monospace\">Initialized MLflow to track repo <span style=\"color: #008000; text-decoration-color: #008000\">\"JavithNaseem-J/Telecom-Customer-Churn-Prediction\"</span>\n",
       "</pre>\n"
      ],
      "text/plain": [
       "Initialized MLflow to track repo \u001b[32m\"JavithNaseem-J/Telecom-Customer-Churn-Prediction\"\u001b[0m\n"
      ]
     },
     "metadata": {},
     "output_type": "display_data"
    },
    {
     "name": "stdout",
     "output_type": "stream",
     "text": [
      "[2025-03-04 11:43:32,361: INFO: helpers: Initialized MLflow to track repo \"JavithNaseem-J/Telecom-Customer-Churn-Prediction\"]\n"
     ]
    },
    {
     "data": {
      "text/html": [
       "<pre style=\"white-space:pre;overflow-x:auto;line-height:normal;font-family:Menlo,'DejaVu Sans Mono',consolas,'Courier New',monospace\">Repository JavithNaseem-J/Telecom-Customer-Churn-Prediction initialized!\n",
       "</pre>\n"
      ],
      "text/plain": [
       "Repository JavithNaseem-J/Telecom-Customer-Churn-Prediction initialized!\n"
      ]
     },
     "metadata": {},
     "output_type": "display_data"
    },
    {
     "name": "stdout",
     "output_type": "stream",
     "text": [
      "[2025-03-04 11:43:32,365: INFO: helpers: Repository JavithNaseem-J/Telecom-Customer-Churn-Prediction initialized!]\n",
      "[2025-03-04 11:43:34,159: INFO: 2214911065: Loading preprocessor and model...]\n",
      "[2025-03-04 11:43:35,024: INFO: 2214911065: Loading test data from artifacts/data_transformation/test.csv...]\n",
      "[2025-03-04 11:43:35,053: INFO: 2214911065: Test data shape: X=(2587, 19), y=(2587,)]\n",
      "[2025-03-04 11:43:35,055: INFO: 2214911065: Preprocessing test features...]\n",
      "[2025-03-04 11:43:35,062: INFO: 2214911065: Making predictions on the test data...]\n",
      "[2025-03-04 11:43:35,224: INFO: 2214911065: Evaluating model performance...]\n"
     ]
    },
    {
     "name": "stderr",
     "output_type": "stream",
     "text": [
      "f:\\ProgramFiles\\anaconda3\\envs\\mlproject\\lib\\site-packages\\sklearn\\utils\\validation.py:2739: UserWarning: X does not have valid feature names, but LGBMClassifier was fitted with feature names\n",
      "  warnings.warn(\n",
      "Successfully registered model 'TelecomCustomerChurnModel'.\n",
      "2025/03/04 11:43:50 INFO mlflow.store.model_registry.abstract_store: Waiting up to 300 seconds for model version to finish creation. Model name: TelecomCustomerChurnModel, version 1\n"
     ]
    },
    {
     "name": "stdout",
     "output_type": "stream",
     "text": [
      "[2025-03-04 11:43:50,932: INFO: 2214911065: Model Evaluation Metrics:\n",
      "accuracy: 0.847313490529571\n",
      "precision: 0.8474327707126296\n",
      "recall: 0.847313490529571\n",
      "f1: 0.8473061440986339]\n",
      "[2025-03-04 11:43:50,934: INFO: 2214911065: Evaluation metrics saved at artifacts\\model_evaluation\\metrics.json]\n"
     ]
    },
    {
     "name": "stderr",
     "output_type": "stream",
     "text": [
      "Created version '1' of model 'TelecomCustomerChurnModel'.\n"
     ]
    },
    {
     "name": "stdout",
     "output_type": "stream",
     "text": [
      "🏃 View run awesome-lynx-1000 at: https://dagshub.com/JavithNaseem-J/Telecom-Customer-Churn-Prediction.mlflow/#/experiments/1/runs/10c2e183442b4ba49e0e05d9a3adeb38\n",
      "🧪 View experiment at: https://dagshub.com/JavithNaseem-J/Telecom-Customer-Churn-Prediction.mlflow/#/experiments/1\n"
     ]
    }
   ],
   "source": [
    "try:\n",
    "    config = ConfigurationManager()\n",
    "    model_evaluation_config = config.get_model_evaluation_config()\n",
    "    model_evaluation = ModelEvaluation(config=model_evaluation_config)\n",
    "    metrics = model_evaluation.evaluate()\n",
    "\n",
    "except FileNotFoundError as e:\n",
    "    logger.error(f\"File not found: {e}\")\n",
    "except KeyError as e:\n",
    "    logger.error(f\"Missing key in configuration or data: {e}\")\n",
    "except Exception as e:\n",
    "    logger.error(f\"Unexpected error: {e}\")"
   ]
  },
  {
   "cell_type": "code",
   "execution_count": null,
   "metadata": {},
   "outputs": [],
   "source": []
  }
 ],
 "metadata": {
  "kernelspec": {
   "display_name": "mlproject",
   "language": "python",
   "name": "python3"
  },
  "language_info": {
   "codemirror_mode": {
    "name": "ipython",
    "version": 3
   },
   "file_extension": ".py",
   "mimetype": "text/x-python",
   "name": "python",
   "nbconvert_exporter": "python",
   "pygments_lexer": "ipython3",
   "version": "3.10.16"
  }
 },
 "nbformat": 4,
 "nbformat_minor": 2
}
