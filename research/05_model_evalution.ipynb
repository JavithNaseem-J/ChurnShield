{
 "cells": [
  {
   "cell_type": "code",
   "execution_count": 1,
   "metadata": {},
   "outputs": [],
   "source": [
    "import os"
   ]
  },
  {
   "cell_type": "code",
   "execution_count": 2,
   "metadata": {},
   "outputs": [
    {
     "data": {
      "text/plain": [
       "'f:\\\\Files\\\\DS&ML\\\\Tele-Com-Customer-Churn-Prediction\\\\research'"
      ]
     },
     "execution_count": 2,
     "metadata": {},
     "output_type": "execute_result"
    }
   ],
   "source": [
    "%pwd"
   ]
  },
  {
   "cell_type": "code",
   "execution_count": 3,
   "metadata": {},
   "outputs": [
    {
     "data": {
      "text/plain": [
       "'f:\\\\Files\\\\DS&ML\\\\Tele-Com-Customer-Churn-Prediction'"
      ]
     },
     "execution_count": 3,
     "metadata": {},
     "output_type": "execute_result"
    }
   ],
   "source": [
    "os.chdir('../')\n",
    "%pwd"
   ]
  },
  {
   "cell_type": "code",
   "execution_count": 4,
   "metadata": {},
   "outputs": [
    {
     "name": "stdout",
     "output_type": "stream",
     "text": [
      "[2025-04-20 20:31:45,181 : INFO : __init__ : Logger has been set up successfully!]\n"
     ]
    }
   ],
   "source": [
    "from mlproject.constants import *"
   ]
  },
  {
   "cell_type": "code",
   "execution_count": 5,
   "metadata": {},
   "outputs": [],
   "source": [
    "from dataclasses import dataclass\n",
    "from pathlib import Path\n",
    "import os\n",
    "import pandas as pd\n",
    "import numpy as np\n",
    "import joblib\n",
    "import json\n",
    "import mlflow\n",
    "import dagshub\n",
    "from sklearn.metrics import accuracy_score, precision_score, recall_score, f1_score\n",
    "import logging"
   ]
  },
  {
   "cell_type": "code",
   "execution_count": 6,
   "metadata": {},
   "outputs": [],
   "source": [
    "from dataclasses import dataclass\n",
    "import pandas as pd\n",
    "import joblib\n",
    "import json\n",
    "from mlproject.constants import *\n",
    "from mlproject.utils.common import read_yaml, create_directories, save_json\n",
    "from mlproject import logger"
   ]
  },
  {
   "cell_type": "code",
   "execution_count": 7,
   "metadata": {},
   "outputs": [],
   "source": [
    "@dataclass\n",
    "class ModelEvaluationConfig:\n",
    "    root_dir: Path\n",
    "    model_path: Path\n",
    "    metric_file_path: Path\n",
    "    preprocessor_path: Path\n",
    "    test_raw_data: Path  \n",
    "    target_column: str\n",
    "    all_params: dict"
   ]
  },
  {
   "cell_type": "code",
   "execution_count": null,
   "metadata": {},
   "outputs": [],
   "source": [
    "class ConfigurationManager:\n",
    "    def __init__(\n",
    "        self,\n",
    "        config_filepath=CONFIG_FILE_PATH,\n",
    "        params_filepath=PARAMS_FILE_PATH,\n",
    "        schema_filepath=SCHEMA_FILE_PATH,\n",
    "    ):\n",
    "        self.config = read_yaml(config_filepath)\n",
    "        self.params = read_yaml(params_filepath)\n",
    "        self.schema = read_yaml(schema_filepath)\n",
    "\n",
    "        create_directories([self.config.artifacts_root])\n",
    "\n",
    "    def get_model_evaluation_config(self) -> ModelEvaluationConfig:\n",
    "        config = self.config.model_evaluation\n",
    "        params = self.params.LGBMClassifier\n",
    "        schema = self.schema.TARGET_COLUMN\n",
    "\n",
    "        create_directories([config.root_dir])\n",
    "\n",
    "        model_evaluation_config = ModelEvaluationConfig(\n",
    "            root_dir=config.root_dir,\n",
    "            model_path=config.model_path,\n",
    "            metric_file_path=config.metric_file_path,\n",
    "            preprocessor_path=config.preprocessor_path,\n",
    "            test_raw_data=config.test_raw_data,  \n",
    "            target_column=schema.name,\n",
    "            all_params=params\n",
    "        )\n",
    "        return model_evaluation_config"
   ]
  },
  {
   "cell_type": "code",
   "execution_count": null,
   "metadata": {},
   "outputs": [],
   "source": [
    "import os\n",
    "import json\n",
    "import joblib\n",
    "import mlflow\n",
    "import dagshub\n",
    "import pandas as pd\n",
    "from pathlib import Path\n",
    "from sklearn.metrics import accuracy_score, precision_score, recall_score, f1_score\n",
    "from mlflow.models.signature import infer_signature\n",
    "from mlproject import logger  \n",
    "from mlproject.entities.config_entity import ModelEvaluationConfig  \n",
    "\n",
    "class ModelEvaluation:\n",
    "    def __init__(self, config: ModelEvaluationConfig):\n",
    "        self.config = config\n",
    "\n",
    "        # Setup DagsHub tracking\n",
    "        os.environ['MLFLOW_TRACKING_USERNAME'] = \"JavithNaseem-J\"\n",
    "        os.environ['MLFLOW_TRACKING_PASSWORD'] = \"39af2ec9240d8439ca7a568d37e4c8566f0e4507\"\n",
    "\n",
    "        dagshub.init(\n",
    "            repo_owner=\"JavithNaseem-J\",\n",
    "            repo_name=\"Telecom-Customer-Churn-Prediction\"\n",
    "        )\n",
    "        mlflow.set_tracking_uri(\n",
    "            \"https://dagshub.com/JavithNaseem-J/Telecom-Customer-Churn-Prediction.mlflow\"\n",
    "        )\n",
    "        mlflow.set_experiment(\"Telecom-Customer-Churn-Prediction\")\n",
    "\n",
    "    def evaluate(self):\n",
    "        try:\n",
    "            mlflow.lightgbm.autolog()\n",
    "\n",
    "            if not Path(self.config.test_raw_data).exists():\n",
    "                raise FileNotFoundError(f\"Test data not found at {self.config.test_raw_data}\")\n",
    "            if not Path(self.config.preprocessor_path).exists():\n",
    "                raise FileNotFoundError(f\"Preprocessor not found at {self.config.preprocessor_path}\")\n",
    "            if not Path(self.config.model_path).exists():\n",
    "                raise FileNotFoundError(f\"Model not found at {self.config.model_path}\")\n",
    "\n",
    "            with mlflow.start_run():\n",
    "                # Set run tags\n",
    "                mlflow.set_tag(\"model_type\", \"CatBoostClassifier\")\n",
    "                mlflow.set_tag(\"evaluation_stage\", \"testing\")\n",
    "\n",
    "                # Load preprocessor and model\n",
    "                logger.info(\"Loading preprocessor and model...\")\n",
    "                preprocessor = joblib.load(self.config.preprocessor_path)\n",
    "                model = joblib.load(self.config.model_path)\n",
    "\n",
    "                # NOTE: Skip this if autolog is capturing params\n",
    "                # mlflow.log_params(self.config.all_params)\n",
    "\n",
    "                # Load and prepare test data\n",
    "                logger.info(f\"Loading test data from {self.config.test_raw_data}...\")\n",
    "                test_data = pd.read_csv(self.config.test_raw_data)\n",
    "                target_column = self.config.target_column\n",
    "\n",
    "                if target_column not in test_data.columns:\n",
    "                    raise KeyError(f\"Target column '{target_column}' not found in test data.\")\n",
    "\n",
    "                test_y = test_data[target_column]\n",
    "                test_x = test_data.drop(columns=[target_column])\n",
    "                logger.info(f\"Test data shape: X={test_x.shape}, y={test_y.shape}\")\n",
    "\n",
    "                # Preprocess and predict\n",
    "                logger.info(\"Preprocessing test features...\")\n",
    "                test_x_transformed = preprocessor.transform(test_x)\n",
    "\n",
    "                logger.info(\"Making predictions...\")\n",
    "                predictions = model.predict(test_x_transformed)\n",
    "\n",
    "                # Evaluation metrics\n",
    "                logger.info(\"Evaluating model performance...\")\n",
    "                try:\n",
    "                    precision = precision_score(test_y, predictions, average=\"weighted\")\n",
    "                    recall = recall_score(test_y, predictions, average=\"weighted\")\n",
    "                    f1 = f1_score(test_y, predictions, average=\"weighted\")\n",
    "                except Exception as metric_error:\n",
    "                    logger.warning(f\"Metric error: {str(metric_error)}. Using zero_division=0 fallback.\")\n",
    "                    precision = precision_score(test_y, predictions, average=\"weighted\", zero_division=0)\n",
    "                    recall = recall_score(test_y, predictions, average=\"weighted\", zero_division=0)\n",
    "                    f1 = f1_score(test_y, predictions, average=\"weighted\", zero_division=0)\n",
    "\n",
    "                metrics = {\n",
    "                    \"accuracy\": accuracy_score(test_y, predictions),\n",
    "                    \"precision\": precision,\n",
    "                    \"recall\": recall,\n",
    "                    \"f1\": f1\n",
    "                }\n",
    "\n",
    "                # Log metrics manually (still needed)\n",
    "                mlflow.log_metrics(metrics)\n",
    "\n",
    "                # Log model (with signature and registry name)\n",
    "                signature = infer_signature(test_x_transformed, predictions)\n",
    "                mlflow.sklearn.log_model(\n",
    "                    model,\n",
    "                    artifact_path=\"TelecomCustomerChurnModel\",\n",
    "                    signature=signature,\n",
    "                    registered_model_name=\"TelecomCustomerChurnModel\"\n",
    "                )\n",
    "\n",
    "                # Print and save metrics\n",
    "                logger.info(f\"Evaluation Metrics:\\n{json.dumps(metrics, indent=2)}\")\n",
    "                metrics_file = Path(self.config.root_dir) / \"metrics.json\"\n",
    "                with open(metrics_file, \"w\") as f:\n",
    "                    json.dump(metrics, f, indent=4)\n",
    "                logger.info(f\"Metrics saved to {metrics_file}\")\n",
    "\n",
    "                return metrics\n",
    "\n",
    "        except Exception as e:\n",
    "            logger.error(f\"Error during model evaluation: {str(e)}\")\n",
    "            raise e"
   ]
  },
  {
   "cell_type": "code",
   "execution_count": 10,
   "metadata": {},
   "outputs": [
    {
     "name": "stdout",
     "output_type": "stream",
     "text": [
      "[2025-04-20 20:31:52,140 : INFO : common : yaml file: config\\config.yaml loaded successfully]\n",
      "[2025-04-20 20:31:52,144 : INFO : common : yaml file: params.yaml loaded successfully]\n",
      "[2025-04-20 20:31:52,160 : INFO : common : yaml file: schema.yaml loaded successfully]\n",
      "[2025-04-20 20:31:52,167 : INFO : common : created directory at: artifacts]\n",
      "[2025-04-20 20:31:52,171 : INFO : common : created directory at: artifacts/model_evaluation]\n"
     ]
    },
    {
     "data": {
      "text/html": [
       "<pre style=\"white-space:pre;overflow-x:auto;line-height:normal;font-family:Menlo,'DejaVu Sans Mono',consolas,'Courier New',monospace\">Accessing as JavithNaseem-J\n",
       "</pre>\n"
      ],
      "text/plain": [
       "Accessing as JavithNaseem-J\n"
      ]
     },
     "metadata": {},
     "output_type": "display_data"
    },
    {
     "data": {
      "text/html": [
       "<pre style=\"white-space:pre;overflow-x:auto;line-height:normal;font-family:Menlo,'DejaVu Sans Mono',consolas,'Courier New',monospace\">Initialized MLflow to track repo <span style=\"color: #008000; text-decoration-color: #008000\">\"JavithNaseem-J/Telecom-Customer-Churn-Prediction\"</span>\n",
       "</pre>\n"
      ],
      "text/plain": [
       "Initialized MLflow to track repo \u001b[32m\"JavithNaseem-J/Telecom-Customer-Churn-Prediction\"\u001b[0m\n"
      ]
     },
     "metadata": {},
     "output_type": "display_data"
    },
    {
     "data": {
      "text/html": [
       "<pre style=\"white-space:pre;overflow-x:auto;line-height:normal;font-family:Menlo,'DejaVu Sans Mono',consolas,'Courier New',monospace\">Repository JavithNaseem-J/Telecom-Customer-Churn-Prediction initialized!\n",
       "</pre>\n"
      ],
      "text/plain": [
       "Repository JavithNaseem-J/Telecom-Customer-Churn-Prediction initialized!\n"
      ]
     },
     "metadata": {},
     "output_type": "display_data"
    },
    {
     "name": "stdout",
     "output_type": "stream",
     "text": [
      "[2025-04-20 20:31:56,993 : INFO : 527151452 : Loading preprocessor and model...]\n",
      "[2025-04-20 20:31:57,154 : INFO : 527151452 : Loading test data from artifacts/data_transformation/test.csv...]\n",
      "[2025-04-20 20:31:57,182 : INFO : 527151452 : Test data shape: X=(2587, 19), y=(2587,)]\n",
      "[2025-04-20 20:31:57,182 : INFO : 527151452 : Preprocessing test features...]\n",
      "[2025-04-20 20:31:57,191 : INFO : 527151452 : Making predictions...]\n",
      "[2025-04-20 20:31:57,367 : INFO : 527151452 : Evaluating model performance...]\n"
     ]
    },
    {
     "name": "stderr",
     "output_type": "stream",
     "text": [
      "f:\\ProgramFiles\\anaconda3\\envs\\tele-comm\\lib\\site-packages\\sklearn\\utils\\validation.py:2739: UserWarning: X does not have valid feature names, but LGBMClassifier was fitted with feature names\n",
      "  warnings.warn(\n",
      "Registered model 'TelecomCustomerChurnModel' already exists. Creating a new version of this model...\n",
      "2025/04/20 20:32:20 INFO mlflow.store.model_registry.abstract_store: Waiting up to 300 seconds for model version to finish creation. Model name: TelecomCustomerChurnModel, version 11\n"
     ]
    },
    {
     "name": "stdout",
     "output_type": "stream",
     "text": [
      "[2025-04-20 20:32:20,151 : INFO : 527151452 : Evaluation Metrics:\n",
      "{\n",
      "  \"accuracy\": 0.847313490529571,\n",
      "  \"precision\": 0.8474327707126296,\n",
      "  \"recall\": 0.847313490529571,\n",
      "  \"f1\": 0.8473061440986339\n",
      "}]\n",
      "[2025-04-20 20:32:20,159 : INFO : 527151452 : Metrics saved to artifacts\\model_evaluation\\metrics.json]\n"
     ]
    },
    {
     "name": "stderr",
     "output_type": "stream",
     "text": [
      "Created version '11' of model 'TelecomCustomerChurnModel'.\n"
     ]
    },
    {
     "name": "stdout",
     "output_type": "stream",
     "text": [
      "🏃 View run gaudy-horse-658 at: https://dagshub.com/JavithNaseem-J/Telecom-Customer-Churn-Prediction.mlflow/#/experiments/1/runs/3c1ad698a5754dfba49ac19b48d52421\n",
      "🧪 View experiment at: https://dagshub.com/JavithNaseem-J/Telecom-Customer-Churn-Prediction.mlflow/#/experiments/1\n"
     ]
    }
   ],
   "source": [
    "try:\n",
    "    config = ConfigurationManager()\n",
    "    model_evaluation_config = config.get_model_evaluation_config()\n",
    "    model_evaluation = ModelEvaluation(config=model_evaluation_config)\n",
    "    metrics = model_evaluation.evaluate()\n",
    "\n",
    "except FileNotFoundError as e:\n",
    "    logger.error(f\"File not found: {e}\")\n",
    "except KeyError as e:\n",
    "    logger.error(f\"Missing key in configuration or data: {e}\")\n",
    "except Exception as e:\n",
    "    logger.error(f\"Unexpected error: {e}\")"
   ]
  },
  {
   "cell_type": "code",
   "execution_count": null,
   "metadata": {},
   "outputs": [],
   "source": []
  }
 ],
 "metadata": {
  "kernelspec": {
   "display_name": "tele-comm",
   "language": "python",
   "name": "python3"
  },
  "language_info": {
   "codemirror_mode": {
    "name": "ipython",
    "version": 3
   },
   "file_extension": ".py",
   "mimetype": "text/x-python",
   "name": "python",
   "nbconvert_exporter": "python",
   "pygments_lexer": "ipython3",
   "version": "3.10.16"
  }
 },
 "nbformat": 4,
 "nbformat_minor": 2
}
